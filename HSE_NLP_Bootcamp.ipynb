{
 "cells": [
  {
   "cell_type": "code",
   "execution_count": null,
   "metadata": {},
   "outputs": [],
   "source": []
  },
  {
   "cell_type": "code",
   "execution_count": null,
   "metadata": {},
   "outputs": [],
   "source": []
  },
  {
   "cell_type": "markdown",
   "metadata": {},
   "source": [
    "Добрый день.\n",
    "Ноутбук с готовым решением пришлось собирать быстро из огромного объёма экспериментов. Надеюсь нужную версию собрал \n",
    "\n",
    "1.\tДля начала понял, что лучшие результаты дает линейная модель. Пробовал все бустинги, случайный лес. Линейная модель быстро и точнее, поэтому все эксперименты строи на ней\n",
    "2.\tTif idf давал лучший результат чем Count\n",
    "3.\t4 граммы давали лучший результат, чем остальные\n",
    "4.\tПред обрабатывал данные по разному, разные анализаторы пробовал, чистый текст как не странно работал лучше\n",
    "5.\tПробовал долбать разные статистики типа, количество слов, количество символом, количество пунктуации, количество смайликов как абсолютном выражение так и на Единцу слова или символа. Все это не давало лучший результат чем чистый текст\n",
    "6.\tДалее обнаружил, что SVM работает Луше, подобрал лучшие параметры, но это очень долго, эксперименты на ней строить не возможно, поэтому далее все тестировал все равно на лог регрессии.\n",
    "7.\tДалее пробовал предсказать оценки на неразмеченной части датасета. Пробовал кластеризацию – ничего толкового не вышло. В итоге использовал лог регрессию для этого, объединял и далее обучал на SVM, это немного прибавило скора.\n",
    "8.\tДалее я понял, что пытаться предсказать оценки 2, 3 и 4 абсолютно бесполезное занятие. Есть негативный отзыв, есть позитивный, угадать поставит человек 5 или 4 не возможно, это уже очень субъективно. Поэтому я сосредоточился на бинарной классификации. Единички предсказывались очень хорошо, потери сильнее были в пятерках. Во сановном за счет иронии. Когда слова имели обратный смысл.\n",
    "9.\tСделал бинарную классификацию и начал подбирать отсечку. Лучший результат дала отсечка в 0,25 в пользу положительного отзыва. То есть 0,25 "
   ]
  },
  {
   "cell_type": "code",
   "execution_count": 69,
   "metadata": {
    "colab": {
     "base_uri": "https://localhost:8080/"
    },
    "id": "GFRzNmDLjMtY",
    "outputId": "f41ff6c9-b28b-4c96-f6d3-b806f6d08c30"
   },
   "outputs": [
    {
     "name": "stderr",
     "output_type": "stream",
     "text": [
      "[nltk_data] Downloading package stopwords to\n",
      "[nltk_data]     C:\\Users\\lqw\\AppData\\Roaming\\nltk_data...\n",
      "[nltk_data]   Package stopwords is already up-to-date!\n"
     ]
    }
   ],
   "source": [
    "import pandas as pd\n",
    "import numpy as np\n",
    "import random\n",
    "import seaborn as sns\n",
    "import matplotlib.pyplot as plt\n",
    "%matplotlib inline\n",
    "from bayes_opt import BayesianOptimization\n",
    "from importlib import reload\n",
    "import catboost as cb\n",
    "import lightgbm as lgb\n",
    "import re\n",
    "from pymorphy2 import MorphAnalyzer\n",
    "from functools import lru_cache\n",
    "from nltk.corpus import stopwords\n",
    "from pymystem3 import Mystem\n",
    "\n",
    "from multiprocessing import Pool\n",
    "from tqdm import tqdm\n",
    "from scipy.stats import gmean, rankdata\n",
    "import nltk\n",
    "nltk.download('stopwords')\n",
    "\n",
    "from sklearn.neighbors import KNeighborsClassifier\n",
    "from sklearn.ensemble import RandomForestClassifier\n",
    "from sklearn import svm\n",
    "\n",
    "from sklearn.model_selection import train_test_split, StratifiedKFold\n",
    "from sklearn.feature_extraction.text import TfidfVectorizer, CountVectorizer\n",
    "from sklearn.linear_model import LogisticRegression\n",
    "from sklearn.metrics import roc_auc_score, f1_score\n",
    "import xgboost\n",
    "from sklearn.metrics import roc_auc_score, f1_score,r2_score,classification_report,accuracy_score,precision_score, recall_score\n",
    "from sklearn.cluster import KMeans\n",
    "from sklearn.ensemble import BaggingClassifier\n",
    "from sklearn.multiclass import OneVsRestClassifier\n",
    "from sklearn.svm import SVC, LinearSVC\n",
    "from sklearn.metrics import confusion_matrix\n",
    "\n",
    "np.random.seed(42)\n",
    "random.seed(42)"
   ]
  },
  {
   "cell_type": "code",
   "execution_count": null,
   "metadata": {},
   "outputs": [],
   "source": []
  },
  {
   "cell_type": "code",
   "execution_count": 359,
   "metadata": {},
   "outputs": [],
   "source": [
    "df = pd.read_csv('train.csv')\n",
    "test = pd.read_csv('test.csv')"
   ]
  },
  {
   "cell_type": "code",
   "execution_count": 360,
   "metadata": {},
   "outputs": [],
   "source": [
    "df_na = df[df.grades.isna()]"
   ]
  },
  {
   "cell_type": "code",
   "execution_count": 113,
   "metadata": {
    "scrolled": true
   },
   "outputs": [
    {
     "data": {
      "text/html": [
       "<div>\n",
       "<style scoped>\n",
       "    .dataframe tbody tr th:only-of-type {\n",
       "        vertical-align: middle;\n",
       "    }\n",
       "\n",
       "    .dataframe tbody tr th {\n",
       "        vertical-align: top;\n",
       "    }\n",
       "\n",
       "    .dataframe thead th {\n",
       "        text-align: right;\n",
       "    }\n",
       "</style>\n",
       "<table border=\"1\" class=\"dataframe\">\n",
       "  <thead>\n",
       "    <tr style=\"text-align: right;\">\n",
       "      <th></th>\n",
       "      <th>bank</th>\n",
       "      <th>feeds</th>\n",
       "      <th>grades</th>\n",
       "      <th>date</th>\n",
       "    </tr>\n",
       "  </thead>\n",
       "  <tbody>\n",
       "    <tr>\n",
       "      <th>2</th>\n",
       "      <td>alfabank</td>\n",
       "      <td>Здравствуйте!Ранее уже оставлял отзыв о вашем ...</td>\n",
       "      <td>NaN</td>\n",
       "      <td>28.06.2019 13:54</td>\n",
       "    </tr>\n",
       "    <tr>\n",
       "      <th>3</th>\n",
       "      <td>vtb</td>\n",
       "      <td>Обращаюсь к Вам с жалобой на незаконное списан...</td>\n",
       "      <td>NaN</td>\n",
       "      <td>15.07.2020 14:54</td>\n",
       "    </tr>\n",
       "    <tr>\n",
       "      <th>5</th>\n",
       "      <td>pochtabank</td>\n",
       "      <td>Брала кредит на стиральную машину. Все платила...</td>\n",
       "      <td>NaN</td>\n",
       "      <td>09.04.2015 17:19</td>\n",
       "    </tr>\n",
       "    <tr>\n",
       "      <th>6</th>\n",
       "      <td>otpbank</td>\n",
       "      <td>Откуда взялся долг по кредитной карте, если я ...</td>\n",
       "      <td>NaN</td>\n",
       "      <td>28.01.2021 13:20</td>\n",
       "    </tr>\n",
       "    <tr>\n",
       "      <th>9</th>\n",
       "      <td>fk_otkritie</td>\n",
       "      <td>Уважаемый Бинбанк, если у вас имеются какие-ли...</td>\n",
       "      <td>NaN</td>\n",
       "      <td>31.08.2018 16:48</td>\n",
       "    </tr>\n",
       "    <tr>\n",
       "      <th>...</th>\n",
       "      <td>...</td>\n",
       "      <td>...</td>\n",
       "      <td>...</td>\n",
       "      <td>...</td>\n",
       "    </tr>\n",
       "    <tr>\n",
       "      <th>74981</th>\n",
       "      <td>vtb</td>\n",
       "      <td>13 августа 2018 г. в ДО ЦИК «Каретный Ряд» под...</td>\n",
       "      <td>NaN</td>\n",
       "      <td>05.09.2018 14:09</td>\n",
       "    </tr>\n",
       "    <tr>\n",
       "      <th>74984</th>\n",
       "      <td>vozrozhdenie</td>\n",
       "      <td>Обман со стороны банка. При снятии наличности ...</td>\n",
       "      <td>NaN</td>\n",
       "      <td>10.02.2013 21:46</td>\n",
       "    </tr>\n",
       "    <tr>\n",
       "      <th>74985</th>\n",
       "      <td>v-express-bank</td>\n",
       "      <td>Здравствуйте! По действующему ипотечному креди...</td>\n",
       "      <td>NaN</td>\n",
       "      <td>23.06.2020 11:26</td>\n",
       "    </tr>\n",
       "    <tr>\n",
       "      <th>74988</th>\n",
       "      <td>rsb</td>\n",
       "      <td>Впервые сталкиваюсь с такой ситуацией, когда б...</td>\n",
       "      <td>NaN</td>\n",
       "      <td>18.06.2015 13:34</td>\n",
       "    </tr>\n",
       "    <tr>\n",
       "      <th>74993</th>\n",
       "      <td>otpbank</td>\n",
       "      <td>28.03.2011 г. вечером получила письмо от Долго...</td>\n",
       "      <td>NaN</td>\n",
       "      <td>05.04.2011 15:35</td>\n",
       "    </tr>\n",
       "  </tbody>\n",
       "</table>\n",
       "<p>23524 rows × 4 columns</p>\n",
       "</div>"
      ],
      "text/plain": [
       "                 bank                                              feeds  \\\n",
       "2            alfabank  Здравствуйте!Ранее уже оставлял отзыв о вашем ...   \n",
       "3                 vtb  Обращаюсь к Вам с жалобой на незаконное списан...   \n",
       "5          pochtabank  Брала кредит на стиральную машину. Все платила...   \n",
       "6             otpbank  Откуда взялся долг по кредитной карте, если я ...   \n",
       "9         fk_otkritie  Уважаемый Бинбанк, если у вас имеются какие-ли...   \n",
       "...               ...                                                ...   \n",
       "74981             vtb  13 августа 2018 г. в ДО ЦИК «Каретный Ряд» под...   \n",
       "74984    vozrozhdenie  Обман со стороны банка. При снятии наличности ...   \n",
       "74985  v-express-bank  Здравствуйте! По действующему ипотечному креди...   \n",
       "74988             rsb  Впервые сталкиваюсь с такой ситуацией, когда б...   \n",
       "74993         otpbank  28.03.2011 г. вечером получила письмо от Долго...   \n",
       "\n",
       "       grades              date  \n",
       "2         NaN  28.06.2019 13:54  \n",
       "3         NaN  15.07.2020 14:54  \n",
       "5         NaN  09.04.2015 17:19  \n",
       "6         NaN  28.01.2021 13:20  \n",
       "9         NaN  31.08.2018 16:48  \n",
       "...       ...               ...  \n",
       "74981     NaN  05.09.2018 14:09  \n",
       "74984     NaN  10.02.2013 21:46  \n",
       "74985     NaN  23.06.2020 11:26  \n",
       "74988     NaN  18.06.2015 13:34  \n",
       "74993     NaN  05.04.2011 15:35  \n",
       "\n",
       "[23524 rows x 4 columns]"
      ]
     },
     "execution_count": 113,
     "metadata": {},
     "output_type": "execute_result"
    }
   ],
   "source": [
    "df_na"
   ]
  },
  {
   "cell_type": "code",
   "execution_count": 361,
   "metadata": {},
   "outputs": [],
   "source": [
    "df_ticher = df.dropna()"
   ]
  },
  {
   "cell_type": "code",
   "execution_count": 114,
   "metadata": {},
   "outputs": [
    {
     "data": {
      "text/html": [
       "<div>\n",
       "<style scoped>\n",
       "    .dataframe tbody tr th:only-of-type {\n",
       "        vertical-align: middle;\n",
       "    }\n",
       "\n",
       "    .dataframe tbody tr th {\n",
       "        vertical-align: top;\n",
       "    }\n",
       "\n",
       "    .dataframe thead th {\n",
       "        text-align: right;\n",
       "    }\n",
       "</style>\n",
       "<table border=\"1\" class=\"dataframe\">\n",
       "  <thead>\n",
       "    <tr style=\"text-align: right;\">\n",
       "      <th></th>\n",
       "      <th>bank</th>\n",
       "      <th>feeds</th>\n",
       "      <th>grades</th>\n",
       "      <th>date</th>\n",
       "    </tr>\n",
       "  </thead>\n",
       "  <tbody>\n",
       "    <tr>\n",
       "      <th>0</th>\n",
       "      <td>ubrr</td>\n",
       "      <td>Много лет являюсь клиентом этого банка, но пос...</td>\n",
       "      <td>1.0</td>\n",
       "      <td>16.02.2017 16:10</td>\n",
       "    </tr>\n",
       "    <tr>\n",
       "      <th>1</th>\n",
       "      <td>fk_otkritie</td>\n",
       "      <td>Г. Ростов-на-Дону, ул. Ленина, 48. Были 10.12....</td>\n",
       "      <td>2.0</td>\n",
       "      <td>13.12.2016 1:05</td>\n",
       "    </tr>\n",
       "    <tr>\n",
       "      <th>4</th>\n",
       "      <td>promsvyazbank</td>\n",
       "      <td>Имею потребительский кредит, взятый в Связь-ба...</td>\n",
       "      <td>2.0</td>\n",
       "      <td>04.08.2020 6:38</td>\n",
       "    </tr>\n",
       "    <tr>\n",
       "      <th>7</th>\n",
       "      <td>homecreditbank</td>\n",
       "      <td>Хочу выразить глубокую благодарность всем сотр...</td>\n",
       "      <td>5.0</td>\n",
       "      <td>19.04.2015 20:11</td>\n",
       "    </tr>\n",
       "    <tr>\n",
       "      <th>8</th>\n",
       "      <td>vtb</td>\n",
       "      <td>6 марта 2019г. В 10:33 при проходе в метро \"Ку...</td>\n",
       "      <td>2.0</td>\n",
       "      <td>28.03.2019 18:36</td>\n",
       "    </tr>\n",
       "    <tr>\n",
       "      <th>...</th>\n",
       "      <td>...</td>\n",
       "      <td>...</td>\n",
       "      <td>...</td>\n",
       "      <td>...</td>\n",
       "    </tr>\n",
       "    <tr>\n",
       "      <th>74995</th>\n",
       "      <td>trust</td>\n",
       "      <td>Три года длится эпопея с закрытием кредитной к...</td>\n",
       "      <td>1.0</td>\n",
       "      <td>26.10.2016 11:03</td>\n",
       "    </tr>\n",
       "    <tr>\n",
       "      <th>74996</th>\n",
       "      <td>fk_otkritie</td>\n",
       "      <td>Являлся клиентом Бинбанка, пока после слияния ...</td>\n",
       "      <td>2.0</td>\n",
       "      <td>01.02.2020 21:07</td>\n",
       "    </tr>\n",
       "    <tr>\n",
       "      <th>74997</th>\n",
       "      <td>sberbank</td>\n",
       "      <td>8 мая 2016 г. мною вносились деньги на банковс...</td>\n",
       "      <td>1.0</td>\n",
       "      <td>14.06.2016 16:03</td>\n",
       "    </tr>\n",
       "    <tr>\n",
       "      <th>74998</th>\n",
       "      <td>uralsib</td>\n",
       "      <td>Здравствуйте! Сегодня 21.04.2020 захожу в моби...</td>\n",
       "      <td>3.0</td>\n",
       "      <td>21.04.2020 8:24</td>\n",
       "    </tr>\n",
       "    <tr>\n",
       "      <th>74999</th>\n",
       "      <td>bnpparibaseast</td>\n",
       "      <td>Уважаемое руководство банка!Если все услуги ва...</td>\n",
       "      <td>1.0</td>\n",
       "      <td>01.06.2011 13:05</td>\n",
       "    </tr>\n",
       "  </tbody>\n",
       "</table>\n",
       "<p>51476 rows × 4 columns</p>\n",
       "</div>"
      ],
      "text/plain": [
       "                 bank                                              feeds  \\\n",
       "0                ubrr  Много лет являюсь клиентом этого банка, но пос...   \n",
       "1         fk_otkritie  Г. Ростов-на-Дону, ул. Ленина, 48. Были 10.12....   \n",
       "4       promsvyazbank  Имею потребительский кредит, взятый в Связь-ба...   \n",
       "7      homecreditbank  Хочу выразить глубокую благодарность всем сотр...   \n",
       "8                 vtb  6 марта 2019г. В 10:33 при проходе в метро \"Ку...   \n",
       "...               ...                                                ...   \n",
       "74995           trust  Три года длится эпопея с закрытием кредитной к...   \n",
       "74996     fk_otkritie  Являлся клиентом Бинбанка, пока после слияния ...   \n",
       "74997        sberbank  8 мая 2016 г. мною вносились деньги на банковс...   \n",
       "74998         uralsib  Здравствуйте! Сегодня 21.04.2020 захожу в моби...   \n",
       "74999  bnpparibaseast  Уважаемое руководство банка!Если все услуги ва...   \n",
       "\n",
       "       grades              date  \n",
       "0         1.0  16.02.2017 16:10  \n",
       "1         2.0   13.12.2016 1:05  \n",
       "4         2.0   04.08.2020 6:38  \n",
       "7         5.0  19.04.2015 20:11  \n",
       "8         2.0  28.03.2019 18:36  \n",
       "...       ...               ...  \n",
       "74995     1.0  26.10.2016 11:03  \n",
       "74996     2.0  01.02.2020 21:07  \n",
       "74997     1.0  14.06.2016 16:03  \n",
       "74998     3.0   21.04.2020 8:24  \n",
       "74999     1.0  01.06.2011 13:05  \n",
       "\n",
       "[51476 rows x 4 columns]"
      ]
     },
     "execution_count": 114,
     "metadata": {},
     "output_type": "execute_result"
    }
   ],
   "source": [
    "df_ticher"
   ]
  },
  {
   "cell_type": "code",
   "execution_count": 362,
   "metadata": {},
   "outputs": [
    {
     "data": {
      "text/plain": [
       "1.0    0.538872\n",
       "5.0    0.276381\n",
       "2.0    0.109449\n",
       "3.0    0.045769\n",
       "4.0    0.029528\n",
       "Name: grades, dtype: float64"
      ]
     },
     "execution_count": 362,
     "metadata": {},
     "output_type": "execute_result"
    }
   ],
   "source": [
    "df_ticher.grades.value_counts(normalize=True)"
   ]
  },
  {
   "cell_type": "code",
   "execution_count": 1,
   "metadata": {
    "scrolled": true
   },
   "outputs": [],
   "source": [
    "df_ticher.grades = df_ticher.grades.apply(int)"
   ]
  },
  {
   "cell_type": "code",
   "execution_count": 366,
   "metadata": {},
   "outputs": [],
   "source": [
    "X_train = df_ticher.copy()"
   ]
  },
  {
   "cell_type": "code",
   "execution_count": 367,
   "metadata": {},
   "outputs": [],
   "source": [
    "vec = TfidfVectorizer(ngram_range=(1, 4), max_df=1.0, min_df=100) \n",
    "bow = vec.fit_transform(X_train.feeds)\n",
    "y=np.array(X_train.grades)"
   ]
  },
  {
   "cell_type": "code",
   "execution_count": 368,
   "metadata": {},
   "outputs": [],
   "source": [
    "model_lr = LogisticRegression(max_iter=1000, solver= 'liblinear', penalty='l1', C=1.5, random_state=random_state)\n",
    "model_lr.fit(bow, y)\n",
    "pred_ = model_lr.predict_proba(vec.transform(df_na.feeds))"
   ]
  },
  {
   "cell_type": "code",
   "execution_count": 372,
   "metadata": {},
   "outputs": [],
   "source": [
    "pred_na = np.argmax(pred_,axis=1)"
   ]
  },
  {
   "cell_type": "code",
   "execution_count": 377,
   "metadata": {},
   "outputs": [],
   "source": [
    "pred_na = pred_na + 1"
   ]
  },
  {
   "cell_type": "code",
   "execution_count": 154,
   "metadata": {},
   "outputs": [],
   "source": [
    "y_n = np.argwhere(pred_[:,3:5].sum(axis=1)>0.3)"
   ]
  },
  {
   "cell_type": "code",
   "execution_count": 156,
   "metadata": {},
   "outputs": [
    {
     "data": {
      "text/plain": [
       "2888"
      ]
     },
     "execution_count": 156,
     "metadata": {},
     "output_type": "execute_result"
    }
   ],
   "source": [
    "len(y_n)"
   ]
  },
  {
   "cell_type": "code",
   "execution_count": 158,
   "metadata": {},
   "outputs": [
    {
     "data": {
      "text/plain": [
       "array([   21,    34,    39, ..., 23510, 23511, 23514], dtype=int64)"
      ]
     },
     "execution_count": 158,
     "metadata": {},
     "output_type": "execute_result"
    }
   ],
   "source": [
    "y_n"
   ]
  },
  {
   "cell_type": "code",
   "execution_count": 159,
   "metadata": {},
   "outputs": [],
   "source": [
    "df_na_target = df_na.iloc[y_n(:,0)]\n",
    "df_na_target.grades.loc[:] = df_na.iloc[y_n(:,1)]"
   ]
  },
  {
   "cell_type": "code",
   "execution_count": 385,
   "metadata": {},
   "outputs": [],
   "source": [
    "df_na_target.grades = df_na_target.grades.apply(int)"
   ]
  },
  {
   "cell_type": "code",
   "execution_count": 427,
   "metadata": {
    "scrolled": true
   },
   "outputs": [
    {
     "data": {
      "text/plain": [
       "1    0.880080\n",
       "5    0.094882\n",
       "2    0.018067\n",
       "3    0.004123\n",
       "4    0.002848\n",
       "Name: grades, dtype: float64"
      ]
     },
     "execution_count": 427,
     "metadata": {},
     "output_type": "execute_result"
    }
   ],
   "source": [
    "df_na_target.grades.value_counts(normalize=True)"
   ]
  },
  {
   "cell_type": "code",
   "execution_count": 388,
   "metadata": {},
   "outputs": [
    {
     "data": {
      "text/plain": [
       "23524"
      ]
     },
     "execution_count": 388,
     "metadata": {},
     "output_type": "execute_result"
    }
   ],
   "source": [
    "len(df_na_target)"
   ]
  },
  {
   "cell_type": "code",
   "execution_count": 430,
   "metadata": {},
   "outputs": [],
   "source": [
    "X_train = df_ticher.copy()"
   ]
  },
  {
   "cell_type": "code",
   "execution_count": 431,
   "metadata": {},
   "outputs": [],
   "source": [
    "X_train = X_train.append(df_na_target)"
   ]
  },
  {
   "cell_type": "code",
   "execution_count": 432,
   "metadata": {},
   "outputs": [
    {
     "data": {
      "text/html": [
       "<div>\n",
       "<style scoped>\n",
       "    .dataframe tbody tr th:only-of-type {\n",
       "        vertical-align: middle;\n",
       "    }\n",
       "\n",
       "    .dataframe tbody tr th {\n",
       "        vertical-align: top;\n",
       "    }\n",
       "\n",
       "    .dataframe thead th {\n",
       "        text-align: right;\n",
       "    }\n",
       "</style>\n",
       "<table border=\"1\" class=\"dataframe\">\n",
       "  <thead>\n",
       "    <tr style=\"text-align: right;\">\n",
       "      <th></th>\n",
       "      <th>bank</th>\n",
       "      <th>feeds</th>\n",
       "      <th>grades</th>\n",
       "      <th>date</th>\n",
       "    </tr>\n",
       "  </thead>\n",
       "  <tbody>\n",
       "    <tr>\n",
       "      <th>0</th>\n",
       "      <td>ubrr</td>\n",
       "      <td>Много лет являюсь клиентом этого банка, но пос...</td>\n",
       "      <td>1</td>\n",
       "      <td>16.02.2017 16:10</td>\n",
       "    </tr>\n",
       "    <tr>\n",
       "      <th>1</th>\n",
       "      <td>fk_otkritie</td>\n",
       "      <td>Г. Ростов-на-Дону, ул. Ленина, 48. Были 10.12....</td>\n",
       "      <td>2</td>\n",
       "      <td>13.12.2016 1:05</td>\n",
       "    </tr>\n",
       "    <tr>\n",
       "      <th>4</th>\n",
       "      <td>promsvyazbank</td>\n",
       "      <td>Имею потребительский кредит, взятый в Связь-ба...</td>\n",
       "      <td>2</td>\n",
       "      <td>04.08.2020 6:38</td>\n",
       "    </tr>\n",
       "    <tr>\n",
       "      <th>7</th>\n",
       "      <td>homecreditbank</td>\n",
       "      <td>Хочу выразить глубокую благодарность всем сотр...</td>\n",
       "      <td>5</td>\n",
       "      <td>19.04.2015 20:11</td>\n",
       "    </tr>\n",
       "    <tr>\n",
       "      <th>8</th>\n",
       "      <td>vtb</td>\n",
       "      <td>6 марта 2019г. В 10:33 при проходе в метро \"Ку...</td>\n",
       "      <td>2</td>\n",
       "      <td>28.03.2019 18:36</td>\n",
       "    </tr>\n",
       "    <tr>\n",
       "      <th>...</th>\n",
       "      <td>...</td>\n",
       "      <td>...</td>\n",
       "      <td>...</td>\n",
       "      <td>...</td>\n",
       "    </tr>\n",
       "    <tr>\n",
       "      <th>74981</th>\n",
       "      <td>vtb</td>\n",
       "      <td>13 августа 2018 г. в ДО ЦИК «Каретный Ряд» под...</td>\n",
       "      <td>1</td>\n",
       "      <td>05.09.2018 14:09</td>\n",
       "    </tr>\n",
       "    <tr>\n",
       "      <th>74984</th>\n",
       "      <td>vozrozhdenie</td>\n",
       "      <td>Обман со стороны банка. При снятии наличности ...</td>\n",
       "      <td>1</td>\n",
       "      <td>10.02.2013 21:46</td>\n",
       "    </tr>\n",
       "    <tr>\n",
       "      <th>74985</th>\n",
       "      <td>v-express-bank</td>\n",
       "      <td>Здравствуйте! По действующему ипотечному креди...</td>\n",
       "      <td>1</td>\n",
       "      <td>23.06.2020 11:26</td>\n",
       "    </tr>\n",
       "    <tr>\n",
       "      <th>74988</th>\n",
       "      <td>rsb</td>\n",
       "      <td>Впервые сталкиваюсь с такой ситуацией, когда б...</td>\n",
       "      <td>1</td>\n",
       "      <td>18.06.2015 13:34</td>\n",
       "    </tr>\n",
       "    <tr>\n",
       "      <th>74993</th>\n",
       "      <td>otpbank</td>\n",
       "      <td>28.03.2011 г. вечером получила письмо от Долго...</td>\n",
       "      <td>1</td>\n",
       "      <td>05.04.2011 15:35</td>\n",
       "    </tr>\n",
       "  </tbody>\n",
       "</table>\n",
       "<p>75000 rows × 4 columns</p>\n",
       "</div>"
      ],
      "text/plain": [
       "                 bank                                              feeds  \\\n",
       "0                ubrr  Много лет являюсь клиентом этого банка, но пос...   \n",
       "1         fk_otkritie  Г. Ростов-на-Дону, ул. Ленина, 48. Были 10.12....   \n",
       "4       promsvyazbank  Имею потребительский кредит, взятый в Связь-ба...   \n",
       "7      homecreditbank  Хочу выразить глубокую благодарность всем сотр...   \n",
       "8                 vtb  6 марта 2019г. В 10:33 при проходе в метро \"Ку...   \n",
       "...               ...                                                ...   \n",
       "74981             vtb  13 августа 2018 г. в ДО ЦИК «Каретный Ряд» под...   \n",
       "74984    vozrozhdenie  Обман со стороны банка. При снятии наличности ...   \n",
       "74985  v-express-bank  Здравствуйте! По действующему ипотечному креди...   \n",
       "74988             rsb  Впервые сталкиваюсь с такой ситуацией, когда б...   \n",
       "74993         otpbank  28.03.2011 г. вечером получила письмо от Долго...   \n",
       "\n",
       "       grades              date  \n",
       "0           1  16.02.2017 16:10  \n",
       "1           2   13.12.2016 1:05  \n",
       "4           2   04.08.2020 6:38  \n",
       "7           5  19.04.2015 20:11  \n",
       "8           2  28.03.2019 18:36  \n",
       "...       ...               ...  \n",
       "74981       1  05.09.2018 14:09  \n",
       "74984       1  10.02.2013 21:46  \n",
       "74985       1  23.06.2020 11:26  \n",
       "74988       1  18.06.2015 13:34  \n",
       "74993       1  05.04.2011 15:35  \n",
       "\n",
       "[75000 rows x 4 columns]"
      ]
     },
     "execution_count": 432,
     "metadata": {},
     "output_type": "execute_result"
    }
   ],
   "source": [
    "X_train"
   ]
  },
  {
   "cell_type": "code",
   "execution_count": 392,
   "metadata": {},
   "outputs": [
    {
     "data": {
      "text/plain": [
       "1    0.645893\n",
       "5    0.219453\n",
       "2    0.080787\n",
       "3    0.032707\n",
       "4    0.021160\n",
       "Name: grades, dtype: float64"
      ]
     },
     "execution_count": 392,
     "metadata": {},
     "output_type": "execute_result"
    }
   ],
   "source": [
    "X_train.grades.value_counts(normalize=True)"
   ]
  },
  {
   "cell_type": "code",
   "execution_count": 401,
   "metadata": {},
   "outputs": [
    {
     "data": {
      "text/plain": [
       "(75000, 4)"
      ]
     },
     "execution_count": 401,
     "metadata": {},
     "output_type": "execute_result"
    }
   ],
   "source": [
    "X_train.shape"
   ]
  },
  {
   "cell_type": "code",
   "execution_count": 403,
   "metadata": {},
   "outputs": [],
   "source": [
    "X_train.grades = X_train.grades.map({1:1, 2:1, 3:1, 4:5, 5:5})"
   ]
  },
  {
   "cell_type": "code",
   "execution_count": 404,
   "metadata": {},
   "outputs": [],
   "source": [
    "%%time\n",
    "X_tr_bin= X_train[~X_train['grades'].isin([2,3,4])]\n",
    "print(X_tr_bin.shape)\n",
    "y_bin = np.array(X_tr_bin.grades)\n",
    "vec = TfidfVectorizer(ngram_range=(1, 4), max_df=1.0, min_df=100) \n",
    "bow = vec.fit_transform(X_tr_bin.feeds)\n",
    "\n",
    "clf_bin = OneVsRestClassifier(BaggingClassifier(SVC(kernel='linear', random_state=random_state,cache_size=1300),\\\n",
    "            bootstrap=True, max_samples=0.5, n_estimators=28, n_jobs=14, random_state=random_state))\n",
    "clf_bin.fit(bow, y_bin)\n",
    "pred_bin = clf_bin.predict_proba(vec.transform(test.feeds))\n"
   ]
  },
  {
   "cell_type": "code",
   "execution_count": null,
   "metadata": {},
   "outputs": [],
   "source": [
    "res = []\n",
    "for  row in pred_bin:\n",
    "    if row[1] >=0.25:\n",
    "        res.append(5)\n",
    "    else:\n",
    "        res.append(1)"
   ]
  },
  {
   "cell_type": "code",
   "execution_count": null,
   "metadata": {},
   "outputs": [],
   "source": [
    "sol = pd.DataFrame({'inds': test.index,\n",
    "                    'grades': pred_bin})\n",
    "sol.to_csv('tfidf_4gr_svm_upper_data_bin.csv', index=False)"
   ]
  },
  {
   "cell_type": "code",
   "execution_count": null,
   "metadata": {},
   "outputs": [],
   "source": []
  }
 ],
 "metadata": {
  "colab": {
   "provenance": [],
   "toc_visible": true
  },
  "kernelspec": {
   "display_name": "Python 3 (ipykernel)",
   "language": "python",
   "name": "python3"
  },
  "language_info": {
   "codemirror_mode": {
    "name": "ipython",
    "version": 3
   },
   "file_extension": ".py",
   "mimetype": "text/x-python",
   "name": "python",
   "nbconvert_exporter": "python",
   "pygments_lexer": "ipython3",
   "version": "3.8.5"
  }
 },
 "nbformat": 4,
 "nbformat_minor": 1
}
