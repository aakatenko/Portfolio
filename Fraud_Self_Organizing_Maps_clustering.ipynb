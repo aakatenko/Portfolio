{
 "cells": [
  {
   "cell_type": "markdown",
   "id": "875b11cd",
   "metadata": {
    "papermill": {
     "duration": 0.011295,
     "end_time": "2023-05-25T10:40:26.759269",
     "exception": false,
     "start_time": "2023-05-25T10:40:26.747974",
     "status": "completed"
    },
    "tags": []
   },
   "source": [
    "## Self-Organizing maps for Anomaly/Fraud Detection\n",
    "\n"
   ]
  },
  {
   "cell_type": "code",
   "execution_count": 1,
   "id": "df0b36e6",
   "metadata": {
    "execution": {
     "iopub.execute_input": "2023-05-25T10:40:26.784913Z",
     "iopub.status.busy": "2023-05-25T10:40:26.784371Z",
     "iopub.status.idle": "2023-05-25T10:40:28.073861Z",
     "shell.execute_reply": "2023-05-25T10:40:28.072930Z"
    },
    "id": "RFEUC3Yx8vIY",
    "papermill": {
     "duration": 1.305504,
     "end_time": "2023-05-25T10:40:28.076442",
     "exception": false,
     "start_time": "2023-05-25T10:40:26.770938",
     "status": "completed"
    },
    "tags": []
   },
   "outputs": [
    {
     "name": "stderr",
     "output_type": "stream",
     "text": [
      "/opt/conda/lib/python3.10/site-packages/scipy/__init__.py:146: UserWarning: A NumPy version >=1.16.5 and <1.23.0 is required for this version of SciPy (detected version 1.23.5\n",
      "  warnings.warn(f\"A NumPy version >={np_minversion} and <{np_maxversion}\"\n"
     ]
    }
   ],
   "source": [
    "import numpy as np\n",
    "from numpy.ma.core import ceil\n",
    "from scipy.spatial import distance #distance calculation\n",
    "from sklearn.preprocessing import MinMaxScaler #normalization\n",
    "from sklearn.model_selection import train_test_split\n",
    "from sklearn.metrics import accuracy_score #scoring\n",
    "from sklearn.metrics import confusion_matrix\n",
    "import matplotlib.pyplot as plt\n",
    "from matplotlib import animation, colors\n",
    "import pandas as pd"
   ]
  },
  {
   "cell_type": "markdown",
   "id": "76536486",
   "metadata": {
    "id": "aQMSI4ygCyUb",
    "papermill": {
     "duration": 0.011522,
     "end_time": "2023-05-25T10:40:28.099941",
     "exception": false,
     "start_time": "2023-05-25T10:40:28.088419",
     "status": "completed"
    },
    "tags": []
   },
   "source": [
    "# Helper Functions"
   ]
  },
  {
   "cell_type": "code",
   "execution_count": 2,
   "id": "eb58a968",
   "metadata": {
    "execution": {
     "iopub.execute_input": "2023-05-25T10:40:28.125783Z",
     "iopub.status.busy": "2023-05-25T10:40:28.125153Z",
     "iopub.status.idle": "2023-05-25T10:40:28.134431Z",
     "shell.execute_reply": "2023-05-25T10:40:28.133269Z"
    },
    "id": "o1NgYEkyCxrr",
    "papermill": {
     "duration": 0.025282,
     "end_time": "2023-05-25T10:40:28.136995",
     "exception": false,
     "start_time": "2023-05-25T10:40:28.111713",
     "status": "completed"
    },
    "tags": []
   },
   "outputs": [],
   "source": [
    "# Euclidean distance - used to check for higher dimensional similarity\n",
    "def e_distance(x,y):\n",
    "  return distance.euclidean(x,y)\n",
    "\n",
    "# Manhattan distance - used to check for adjacency in 2d neuron grid\n",
    "def m_distance(x,y):\n",
    "  return distance.cityblock(x,y)\n",
    "\n",
    "# Best Matching Unit search\n",
    "def winning_neuron(data, t, som, num_rows, num_cols):\n",
    "  winner = [0,0]\n",
    "  shortest_distance = np.sqrt(data.shape[1]) # initialise with max distance\n",
    "  input_data_instance = data[t]\n",
    "  for row in range(num_rows):\n",
    "    for col in range(num_cols):\n",
    "      distance = e_distance(som[row][col], input_data_instance) # som - 2d lattice of neurons\n",
    "      if distance < shortest_distance: \n",
    "        shortest_distance = distance\n",
    "        winner = [row,col] # coordinates of winner neuron in som\n",
    "  return winner\n",
    "\n",
    "# Learning rate and neighbourhood range calculation for a given step\n",
    "def decay(step, max_steps,max_learning_rate,max_m_distance):\n",
    "  coefficient = 1.0 - (np.float64(step)/max_steps)\n",
    "  learning_rate = coefficient*max_learning_rate # as num_steps for an iteration increases, learning rate decreases\n",
    "  neighbourhood_range = ceil(coefficient * max_m_distance) # similarly, neighbourhood range also decreases\n",
    "  return learning_rate, neighbourhood_range"
   ]
  },
  {
   "cell_type": "markdown",
   "id": "14b06448",
   "metadata": {
    "id": "3PGITDnZBw0c",
    "papermill": {
     "duration": 0.011419,
     "end_time": "2023-05-25T10:40:28.160379",
     "exception": false,
     "start_time": "2023-05-25T10:40:28.148960",
     "status": "completed"
    },
    "tags": []
   },
   "source": [
    "# Data Preprocessing"
   ]
  },
  {
   "cell_type": "code",
   "execution_count": 3,
   "id": "72003874",
   "metadata": {
    "execution": {
     "iopub.execute_input": "2023-05-25T10:40:28.185883Z",
     "iopub.status.busy": "2023-05-25T10:40:28.185452Z",
     "iopub.status.idle": "2023-05-25T10:40:58.000458Z",
     "shell.execute_reply": "2023-05-25T10:40:57.999023Z"
    },
    "id": "fCWgiMvD9gxw",
    "outputId": "4f3de8bb-2c8e-4a44-9799-1223a94ae7c6",
    "papermill": {
     "duration": 29.831534,
     "end_time": "2023-05-25T10:40:58.003803",
     "exception": false,
     "start_time": "2023-05-25T10:40:28.172269",
     "status": "completed"
    },
    "tags": []
   },
   "outputs": [
    {
     "data": {
      "text/plain": [
       "TransactionID          0\n",
       "isFraud                0\n",
       "TransactionDT          0\n",
       "TransactionAmt         0\n",
       "ProductCD              0\n",
       "                   ...  \n",
       "V335              351771\n",
       "V336              351771\n",
       "V337              351771\n",
       "V338              351771\n",
       "V339              351771\n",
       "Length: 394, dtype: int64"
      ]
     },
     "execution_count": 3,
     "metadata": {},
     "output_type": "execute_result"
    }
   ],
   "source": [
    "df = pd.read_csv('/kaggle/input/fraud-detection-competition/train_transaction.csv')\n",
    "df.isnull().sum() "
   ]
  },
  {
   "cell_type": "code",
   "execution_count": 4,
   "id": "adf4ab8e",
   "metadata": {
    "execution": {
     "iopub.execute_input": "2023-05-25T10:40:58.029754Z",
     "iopub.status.busy": "2023-05-25T10:40:58.029324Z",
     "iopub.status.idle": "2023-05-25T10:40:58.079987Z",
     "shell.execute_reply": "2023-05-25T10:40:58.078618Z"
    },
    "papermill": {
     "duration": 0.066662,
     "end_time": "2023-05-25T10:40:58.082703",
     "exception": false,
     "start_time": "2023-05-25T10:40:58.016041",
     "status": "completed"
    },
    "tags": []
   },
   "outputs": [
    {
     "data": {
      "text/html": [
       "<div>\n",
       "<style scoped>\n",
       "    .dataframe tbody tr th:only-of-type {\n",
       "        vertical-align: middle;\n",
       "    }\n",
       "\n",
       "    .dataframe tbody tr th {\n",
       "        vertical-align: top;\n",
       "    }\n",
       "\n",
       "    .dataframe thead th {\n",
       "        text-align: right;\n",
       "    }\n",
       "</style>\n",
       "<table border=\"1\" class=\"dataframe\">\n",
       "  <thead>\n",
       "    <tr style=\"text-align: right;\">\n",
       "      <th></th>\n",
       "      <th>TransactionID</th>\n",
       "      <th>isFraud</th>\n",
       "      <th>TransactionDT</th>\n",
       "      <th>TransactionAmt</th>\n",
       "      <th>ProductCD</th>\n",
       "      <th>card1</th>\n",
       "      <th>card2</th>\n",
       "      <th>card3</th>\n",
       "      <th>card4</th>\n",
       "      <th>card5</th>\n",
       "      <th>...</th>\n",
       "      <th>V330</th>\n",
       "      <th>V331</th>\n",
       "      <th>V332</th>\n",
       "      <th>V333</th>\n",
       "      <th>V334</th>\n",
       "      <th>V335</th>\n",
       "      <th>V336</th>\n",
       "      <th>V337</th>\n",
       "      <th>V338</th>\n",
       "      <th>V339</th>\n",
       "    </tr>\n",
       "  </thead>\n",
       "  <tbody>\n",
       "    <tr>\n",
       "      <th>0</th>\n",
       "      <td>2987000</td>\n",
       "      <td>0</td>\n",
       "      <td>86400</td>\n",
       "      <td>68.5</td>\n",
       "      <td>W</td>\n",
       "      <td>13926</td>\n",
       "      <td>NaN</td>\n",
       "      <td>150.0</td>\n",
       "      <td>discover</td>\n",
       "      <td>142.0</td>\n",
       "      <td>...</td>\n",
       "      <td>NaN</td>\n",
       "      <td>NaN</td>\n",
       "      <td>NaN</td>\n",
       "      <td>NaN</td>\n",
       "      <td>NaN</td>\n",
       "      <td>NaN</td>\n",
       "      <td>NaN</td>\n",
       "      <td>NaN</td>\n",
       "      <td>NaN</td>\n",
       "      <td>NaN</td>\n",
       "    </tr>\n",
       "    <tr>\n",
       "      <th>1</th>\n",
       "      <td>2987001</td>\n",
       "      <td>0</td>\n",
       "      <td>86401</td>\n",
       "      <td>29.0</td>\n",
       "      <td>W</td>\n",
       "      <td>2755</td>\n",
       "      <td>404.0</td>\n",
       "      <td>150.0</td>\n",
       "      <td>mastercard</td>\n",
       "      <td>102.0</td>\n",
       "      <td>...</td>\n",
       "      <td>NaN</td>\n",
       "      <td>NaN</td>\n",
       "      <td>NaN</td>\n",
       "      <td>NaN</td>\n",
       "      <td>NaN</td>\n",
       "      <td>NaN</td>\n",
       "      <td>NaN</td>\n",
       "      <td>NaN</td>\n",
       "      <td>NaN</td>\n",
       "      <td>NaN</td>\n",
       "    </tr>\n",
       "    <tr>\n",
       "      <th>2</th>\n",
       "      <td>2987002</td>\n",
       "      <td>0</td>\n",
       "      <td>86469</td>\n",
       "      <td>59.0</td>\n",
       "      <td>W</td>\n",
       "      <td>4663</td>\n",
       "      <td>490.0</td>\n",
       "      <td>150.0</td>\n",
       "      <td>visa</td>\n",
       "      <td>166.0</td>\n",
       "      <td>...</td>\n",
       "      <td>NaN</td>\n",
       "      <td>NaN</td>\n",
       "      <td>NaN</td>\n",
       "      <td>NaN</td>\n",
       "      <td>NaN</td>\n",
       "      <td>NaN</td>\n",
       "      <td>NaN</td>\n",
       "      <td>NaN</td>\n",
       "      <td>NaN</td>\n",
       "      <td>NaN</td>\n",
       "    </tr>\n",
       "    <tr>\n",
       "      <th>3</th>\n",
       "      <td>2987003</td>\n",
       "      <td>0</td>\n",
       "      <td>86499</td>\n",
       "      <td>50.0</td>\n",
       "      <td>W</td>\n",
       "      <td>18132</td>\n",
       "      <td>567.0</td>\n",
       "      <td>150.0</td>\n",
       "      <td>mastercard</td>\n",
       "      <td>117.0</td>\n",
       "      <td>...</td>\n",
       "      <td>NaN</td>\n",
       "      <td>NaN</td>\n",
       "      <td>NaN</td>\n",
       "      <td>NaN</td>\n",
       "      <td>NaN</td>\n",
       "      <td>NaN</td>\n",
       "      <td>NaN</td>\n",
       "      <td>NaN</td>\n",
       "      <td>NaN</td>\n",
       "      <td>NaN</td>\n",
       "    </tr>\n",
       "    <tr>\n",
       "      <th>4</th>\n",
       "      <td>2987004</td>\n",
       "      <td>0</td>\n",
       "      <td>86506</td>\n",
       "      <td>50.0</td>\n",
       "      <td>H</td>\n",
       "      <td>4497</td>\n",
       "      <td>514.0</td>\n",
       "      <td>150.0</td>\n",
       "      <td>mastercard</td>\n",
       "      <td>102.0</td>\n",
       "      <td>...</td>\n",
       "      <td>0.0</td>\n",
       "      <td>0.0</td>\n",
       "      <td>0.0</td>\n",
       "      <td>0.0</td>\n",
       "      <td>0.0</td>\n",
       "      <td>0.0</td>\n",
       "      <td>0.0</td>\n",
       "      <td>0.0</td>\n",
       "      <td>0.0</td>\n",
       "      <td>0.0</td>\n",
       "    </tr>\n",
       "  </tbody>\n",
       "</table>\n",
       "<p>5 rows × 394 columns</p>\n",
       "</div>"
      ],
      "text/plain": [
       "   TransactionID  isFraud  TransactionDT  TransactionAmt ProductCD  card1  \\\n",
       "0        2987000        0          86400            68.5         W  13926   \n",
       "1        2987001        0          86401            29.0         W   2755   \n",
       "2        2987002        0          86469            59.0         W   4663   \n",
       "3        2987003        0          86499            50.0         W  18132   \n",
       "4        2987004        0          86506            50.0         H   4497   \n",
       "\n",
       "   card2  card3       card4  card5  ... V330  V331  V332  V333  V334 V335  \\\n",
       "0    NaN  150.0    discover  142.0  ...  NaN   NaN   NaN   NaN   NaN  NaN   \n",
       "1  404.0  150.0  mastercard  102.0  ...  NaN   NaN   NaN   NaN   NaN  NaN   \n",
       "2  490.0  150.0        visa  166.0  ...  NaN   NaN   NaN   NaN   NaN  NaN   \n",
       "3  567.0  150.0  mastercard  117.0  ...  NaN   NaN   NaN   NaN   NaN  NaN   \n",
       "4  514.0  150.0  mastercard  102.0  ...  0.0   0.0   0.0   0.0   0.0  0.0   \n",
       "\n",
       "  V336  V337  V338  V339  \n",
       "0  NaN   NaN   NaN   NaN  \n",
       "1  NaN   NaN   NaN   NaN  \n",
       "2  NaN   NaN   NaN   NaN  \n",
       "3  NaN   NaN   NaN   NaN  \n",
       "4  0.0   0.0   0.0   0.0  \n",
       "\n",
       "[5 rows x 394 columns]"
      ]
     },
     "execution_count": 4,
     "metadata": {},
     "output_type": "execute_result"
    }
   ],
   "source": [
    "df.head()"
   ]
  },
  {
   "cell_type": "code",
   "execution_count": 5,
   "id": "c7f1945c",
   "metadata": {
    "execution": {
     "iopub.execute_input": "2023-05-25T10:40:58.111738Z",
     "iopub.status.busy": "2023-05-25T10:40:58.110909Z",
     "iopub.status.idle": "2023-05-25T10:42:39.178364Z",
     "shell.execute_reply": "2023-05-25T10:42:39.176984Z"
    },
    "id": "XR61bKSaBLIp",
    "outputId": "97c88e10-8dc0-4ff8-c514-0f5e880e6e58",
    "papermill": {
     "duration": 101.08512,
     "end_time": "2023-05-25T10:42:39.181239",
     "exception": false,
     "start_time": "2023-05-25T10:40:58.096119",
     "status": "completed"
    },
    "tags": []
   },
   "outputs": [
    {
     "name": "stderr",
     "output_type": "stream",
     "text": [
      "/tmp/ipykernel_20/3024276667.py:1: FutureWarning: The default value of numeric_only in DataFrame.mean is deprecated. In a future version, it will default to False. In addition, specifying 'numeric_only=None' is deprecated. Select only valid columns or specify the value of numeric_only to silence this warning.\n",
      "  df = df.fillna(df.mean())\n"
     ]
    }
   ],
   "source": [
    "df = df.fillna(df.mean())\n",
    "\n",
    "df = df.drop(['R_emaildomain'], axis=1) # RAM Constraint\n",
    "df = df.drop(df[~ (df['card4'] == 'visa') & ~ (df['card4'] == 'mastercard')].index)\n",
    "df = df.drop(df[~ (df['P_emaildomain'] == 'gmail.com') & ~ (df['P_emaildomain'] == 'yahoo.com')].index)\n",
    "\n",
    "data_x = df.drop(['isFraud'], axis =1)\n",
    "data_y = df.loc[:,'isFraud']"
   ]
  },
  {
   "cell_type": "code",
   "execution_count": 6,
   "id": "a38352a7",
   "metadata": {
    "execution": {
     "iopub.execute_input": "2023-05-25T10:42:39.210707Z",
     "iopub.status.busy": "2023-05-25T10:42:39.210229Z",
     "iopub.status.idle": "2023-05-25T10:42:39.555309Z",
     "shell.execute_reply": "2023-05-25T10:42:39.554233Z"
    },
    "papermill": {
     "duration": 0.363298,
     "end_time": "2023-05-25T10:42:39.557905",
     "exception": false,
     "start_time": "2023-05-25T10:42:39.194607",
     "status": "completed"
    },
    "tags": []
   },
   "outputs": [
    {
     "data": {
      "text/plain": [
       "<AxesSubplot: >"
      ]
     },
     "execution_count": 6,
     "metadata": {},
     "output_type": "execute_result"
    },
    {
     "data": {
      "image/png": "[encoded data removed]",
      "text/plain": [
       "<Figure size 640x480 with 1 Axes>"
      ]
     },
     "metadata": {},
     "output_type": "display_data"
    }
   ],
   "source": [
    "data_y.hist()"
   ]
  },
  {
   "cell_type": "markdown",
   "id": "272fe4d3",
   "metadata": {
    "papermill": {
     "duration": 0.012744,
     "end_time": "2023-05-25T10:42:39.584398",
     "exception": false,
     "start_time": "2023-05-25T10:42:39.571654",
     "status": "completed"
    },
    "tags": []
   },
   "source": [
    "### Label Encoding"
   ]
  },
  {
   "cell_type": "code",
   "execution_count": 7,
   "id": "351b53d3",
   "metadata": {
    "execution": {
     "iopub.execute_input": "2023-05-25T10:42:39.613254Z",
     "iopub.status.busy": "2023-05-25T10:42:39.612445Z",
     "iopub.status.idle": "2023-05-25T10:42:41.591430Z",
     "shell.execute_reply": "2023-05-25T10:42:41.589896Z"
    },
    "id": "dezMYnPeGxpq",
    "papermill": {
     "duration": 1.996849,
     "end_time": "2023-05-25T10:42:41.594481",
     "exception": false,
     "start_time": "2023-05-25T10:42:39.597632",
     "status": "completed"
    },
    "tags": []
   },
   "outputs": [],
   "source": [
    "from sklearn.preprocessing import LabelEncoder\n",
    "le = LabelEncoder()\n",
    "\n",
    "le.fit([\"T\",\"F\",'n'])\n",
    "\n",
    "for i,k in enumerate(['M1','M2','M3','M5','M6','M7','M8','M9']):\n",
    "  data_x[k] = le.transform(data_x[k])"
   ]
  },
  {
   "cell_type": "markdown",
   "id": "2df50157",
   "metadata": {
    "papermill": {
     "duration": 0.012655,
     "end_time": "2023-05-25T10:42:41.620403",
     "exception": false,
     "start_time": "2023-05-25T10:42:41.607748",
     "status": "completed"
    },
    "tags": []
   },
   "source": [
    "### One Hot Encoding"
   ]
  },
  {
   "cell_type": "code",
   "execution_count": 8,
   "id": "95a3ac0f",
   "metadata": {
    "execution": {
     "iopub.execute_input": "2023-05-25T10:42:41.648736Z",
     "iopub.status.busy": "2023-05-25T10:42:41.647757Z",
     "iopub.status.idle": "2023-05-25T10:42:43.412001Z",
     "shell.execute_reply": "2023-05-25T10:42:43.410620Z"
    },
    "id": "-ELoX3ekF7Wz",
    "papermill": {
     "duration": 1.781688,
     "end_time": "2023-05-25T10:42:43.415127",
     "exception": false,
     "start_time": "2023-05-25T10:42:41.633439",
     "status": "completed"
    },
    "tags": []
   },
   "outputs": [],
   "source": [
    "from sklearn.preprocessing import OneHotEncoder\n",
    "from sklearn.compose import ColumnTransformer\n",
    "\n",
    "# queriedColumns = ['ProductCD', 'card4', 'card6', 'P_emaildomain', 'R_emaildomain', 'M4'] # RAM Constraint\n",
    "queriedColumns = ['ProductCD', 'card4', 'card6', 'P_emaildomain', 'M4'] # RAM Constraint\n",
    "\n",
    "indexes = []\n",
    "for i, k in enumerate(queriedColumns): \n",
    "  indexes.append(data_x.columns.get_loc(k))\n",
    "\n",
    "ct = ColumnTransformer(transformers=[('encoder', OneHotEncoder(sparse_output=False) , indexes)], remainder = 'passthrough')\n",
    "data_x = np.array(ct.fit_transform(data_x)).astype('float32')"
   ]
  },
  {
   "cell_type": "markdown",
   "id": "33fa01fc",
   "metadata": {
    "papermill": {
     "duration": 0.012685,
     "end_time": "2023-05-25T10:42:43.440896",
     "exception": false,
     "start_time": "2023-05-25T10:42:43.428211",
     "status": "completed"
    },
    "tags": []
   },
   "source": [
    "#### Note: train_y (labels) is used only for label collection in Approach 1: Correct labels assigned to clusters. It is ignored in Approach 2: Unsupervised Clustering."
   ]
  },
  {
   "cell_type": "code",
   "execution_count": 9,
   "id": "aaa5951a",
   "metadata": {
    "execution": {
     "iopub.execute_input": "2023-05-25T10:42:43.470100Z",
     "iopub.status.busy": "2023-05-25T10:42:43.469220Z",
     "iopub.status.idle": "2023-05-25T10:42:44.026486Z",
     "shell.execute_reply": "2023-05-25T10:42:44.025377Z"
    },
    "id": "zwo3LYrZKGpb",
    "outputId": "a71c30ec-3eda-4574-8f8e-e8d8f3a16c3b",
    "papermill": {
     "duration": 0.575029,
     "end_time": "2023-05-25T10:42:44.029682",
     "exception": false,
     "start_time": "2023-05-25T10:42:43.454653",
     "status": "completed"
    },
    "tags": []
   },
   "outputs": [
    {
     "name": "stdout",
     "output_type": "stream",
     "text": [
      "Shapes: (113388, 403) | (113388,) | (113388, 403) | (113388,)\n"
     ]
    }
   ],
   "source": [
    "train_x, val_x, train_y, val_y = train_test_split(data_x, data_y, test_size=0.5, random_state=42)\n",
    "print(f'Shapes: {train_x.shape} | {train_y.shape} | {val_x.shape} | {val_y.shape}') # check the shap\n",
    "\n",
    "sc = MinMaxScaler(feature_range=(0,1))\n",
    "train_x_scaled = sc.fit_transform(train_x) # normalization\n",
    "val_x_scaled = sc.transform(val_x)"
   ]
  },
  {
   "cell_type": "markdown",
   "id": "1feeed9f",
   "metadata": {
    "id": "uZEITpUQE9Qg",
    "papermill": {
     "duration": 0.013473,
     "end_time": "2023-05-25T10:42:44.060445",
     "exception": false,
     "start_time": "2023-05-25T10:42:44.046972",
     "status": "completed"
    },
    "tags": []
   },
   "source": [
    "# Training"
   ]
  },
  {
   "cell_type": "markdown",
   "id": "a151514f",
   "metadata": {
    "id": "CH9r5OrEEzkZ",
    "papermill": {
     "duration": 0.013292,
     "end_time": "2023-05-25T10:42:44.087127",
     "exception": false,
     "start_time": "2023-05-25T10:42:44.073835",
     "status": "completed"
    },
    "tags": []
   },
   "source": [
    "### Hyperparameters"
   ]
  },
  {
   "cell_type": "code",
   "execution_count": 10,
   "id": "8557968d",
   "metadata": {
    "execution": {
     "iopub.execute_input": "2023-05-25T10:42:44.116607Z",
     "iopub.status.busy": "2023-05-25T10:42:44.115277Z",
     "iopub.status.idle": "2023-05-25T10:42:44.122026Z",
     "shell.execute_reply": "2023-05-25T10:42:44.121022Z"
    },
    "id": "kYZwGPOVEzG-",
    "papermill": {
     "duration": 0.024379,
     "end_time": "2023-05-25T10:42:44.124822",
     "exception": false,
     "start_time": "2023-05-25T10:42:44.100443",
     "status": "completed"
    },
    "tags": []
   },
   "outputs": [],
   "source": [
    "num_rows = 25 # ~ sqrt(sqrt(train_x.shape[0]))\n",
    "num_cols = 25 # ~ sqrt(sqrt(train_x.shape[0]))\n",
    "max_m_distance = 15\n",
    "max_learning_rate = 0.5\n",
    "max_steps = int(300000) #  ~ 500 * num_rows * num_cols"
   ]
  },
  {
   "cell_type": "markdown",
   "id": "610831b9",
   "metadata": {
    "id": "da951o-rYwjp",
    "papermill": {
     "duration": 0.012758,
     "end_time": "2023-05-25T10:42:44.151098",
     "exception": false,
     "start_time": "2023-05-25T10:42:44.138340",
     "status": "completed"
    },
    "tags": []
   },
   "source": [
    "### Additional Helper Function:\n",
    "\n",
    "#### Adjusting Neighbours' Weights\n",
    "\n",
    "\n",
    "$ W(t + 1) = W(t) + \\Theta(t) * \\lambda(t) * (V(t) - W(t)) $\n",
    "\n",
    "\n",
    "$ \\Theta = exp(-\\frac{dist^{2}}{2 r^{2} (t)}) $  \n",
    "$ \\Theta $ depends on the time and the distance of the neuron to the BMU &arr; Ensures that the weights are adjusted particularly strongly for neurons close to the BMU\n",
    "\n",
    "##### r = neighbourhood range / radius\n",
    "##### t = time / steps \n",
    "##### dist = distance of given neighbour neuron from BMU \n",
    "\n",
    "$ \\lambda $ is the learning rate and can be freely chosen"
   ]
  },
  {
   "cell_type": "code",
   "execution_count": 11,
   "id": "92113510",
   "metadata": {
    "execution": {
     "iopub.execute_input": "2023-05-25T10:42:44.179784Z",
     "iopub.status.busy": "2023-05-25T10:42:44.179016Z",
     "iopub.status.idle": "2023-05-25T10:42:44.184949Z",
     "shell.execute_reply": "2023-05-25T10:42:44.183963Z"
    },
    "id": "JtFJPDiTZGl3",
    "papermill": {
     "duration": 0.023027,
     "end_time": "2023-05-25T10:42:44.187222",
     "exception": false,
     "start_time": "2023-05-25T10:42:44.164195",
     "status": "completed"
    },
    "tags": []
   },
   "outputs": [],
   "source": [
    "import math\n",
    "\n",
    "def neighbourFunction(dist, r, t):\n",
    "  funcOutput = math.exp(0-(dist*dist)/(2*r*r*t))\n",
    "  return funcOutput "
   ]
  },
  {
   "cell_type": "code",
   "execution_count": 12,
   "id": "a61d8b8f",
   "metadata": {
    "execution": {
     "iopub.execute_input": "2023-05-25T10:42:44.218658Z",
     "iopub.status.busy": "2023-05-25T10:42:44.217737Z",
     "iopub.status.idle": "2023-05-25T12:24:46.706593Z",
     "shell.execute_reply": "2023-05-25T12:24:46.705262Z"
    },
    "id": "2sK37qXdE-tK",
    "outputId": "6424617a-ccac-4399-9dae-08564892a7b2",
    "papermill": {
     "duration": 6122.522836,
     "end_time": "2023-05-25T12:24:46.724352",
     "exception": false,
     "start_time": "2023-05-25T10:42:44.201516",
     "status": "completed"
    },
    "tags": []
   },
   "outputs": [
    {
     "name": "stdout",
     "output_type": "stream",
     "text": [
      "Iteration:  10000\n",
      "Iteration:  20000\n",
      "Iteration:  30000\n",
      "Iteration:  40000\n",
      "Iteration:  50000\n",
      "Iteration:  60000\n",
      "Iteration:  70000\n",
      "Iteration:  80000\n",
      "Iteration:  90000\n",
      "Iteration:  100000\n",
      "Iteration:  110000\n",
      "Iteration:  120000\n",
      "Iteration:  130000\n",
      "Iteration:  140000\n",
      "Iteration:  150000\n",
      "Iteration:  160000\n",
      "Iteration:  170000\n",
      "Iteration:  180000\n",
      "Iteration:  190000\n",
      "Iteration:  200000\n",
      "Iteration:  210000\n",
      "Iteration:  220000\n",
      "Iteration:  230000\n",
      "Iteration:  240000\n",
      "Iteration:  250000\n",
      "Iteration:  260000\n",
      "Iteration:  270000\n",
      "Iteration:  280000\n",
      "Iteration:  290000\n",
      "Iteration:  300000\n"
     ]
    }
   ],
   "source": [
    "num_dims = train_x_scaled.shape[1] # numnber of dimensions in the input data\n",
    "\n",
    "np.random.seed(2)\n",
    "\n",
    "som = np.random.random_sample(size=(num_rows, num_cols, num_dims)) # neuron 2d lattice - map construction\n",
    "\n",
    "for step in range(max_steps):\n",
    "  if (step+1) % 10000 == 0:\n",
    "      print(\"Iteration: \", step+1) # print out the current iteration for every 10k\n",
    "\n",
    "  learning_rate, neighbourhood_range = decay(step, max_steps,max_learning_rate,max_m_distance)\n",
    "\n",
    "  t = np.random.randint(0,high=train_x_scaled.shape[0]) # random index of training data\n",
    "  winner = winning_neuron(train_x_scaled, t, som, num_rows, num_cols)\n",
    "\n",
    "  for row in range(num_rows):\n",
    "    for col in range(num_cols):\n",
    "      if m_distance([row,col],winner) <= neighbourhood_range:\n",
    "        if(row==winner[0] and col == winner[1]):\n",
    "          som[row][col] += learning_rate*(train_x_scaled[t]-som[row][col]) # update BMU's weights\n",
    "        else:\n",
    "          neighbourFunc = neighbourFunction(m_distance([row,col],winner), neighbourhood_range, (step+1))\n",
    "          som[row][col] +=  neighbourFunc * learning_rate*(train_x_scaled[t]-som[row][col]) # update neighbours' weights"
   ]
  },
  {
   "cell_type": "markdown",
   "id": "7e739671",
   "metadata": {
    "papermill": {
     "duration": 0.015365,
     "end_time": "2023-05-25T12:24:46.755982",
     "exception": false,
     "start_time": "2023-05-25T12:24:46.740617",
     "status": "completed"
    },
    "tags": []
   },
   "source": [
    "# Approach 1: Correct Labels Assigned to Clusters. \n",
    "\n",
    "#### Clusters are already formed in the self organizing map. Labels can be assigned to each neuron in the map, and inputs can be assigned to each neuron to determine their class (Fraud/Not Fraud)"
   ]
  },
  {
   "cell_type": "markdown",
   "id": "2c59eddf",
   "metadata": {
    "papermill": {
     "duration": 0.015408,
     "end_time": "2023-05-25T12:24:46.786909",
     "exception": false,
     "start_time": "2023-05-25T12:24:46.771501",
     "status": "completed"
    },
    "tags": []
   },
   "source": [
    "> ## Collecting Labels"
   ]
  },
  {
   "cell_type": "code",
   "execution_count": 13,
   "id": "03393726",
   "metadata": {
    "execution": {
     "iopub.execute_input": "2023-05-25T12:24:46.821092Z",
     "iopub.status.busy": "2023-05-25T12:24:46.819941Z",
     "iopub.status.idle": "2023-05-25T12:24:46.827080Z",
     "shell.execute_reply": "2023-05-25T12:24:46.826168Z"
    },
    "papermill": {
     "duration": 0.026785,
     "end_time": "2023-05-25T12:24:46.829253",
     "exception": false,
     "start_time": "2023-05-25T12:24:46.802468",
     "status": "completed"
    },
    "tags": []
   },
   "outputs": [],
   "source": [
    "label_data = train_y.values\n",
    "map = np.empty(shape=(num_rows, num_cols), dtype=object)\n",
    "\n",
    "for row in range(num_rows):\n",
    "  for col in range(num_cols):\n",
    "    map[row][col] = [] # em"
   ]
  },
  {
   "cell_type": "code",
   "execution_count": 14,
   "id": "38497d53",
   "metadata": {
    "execution": {
     "iopub.execute_input": "2023-05-25T12:24:46.862731Z",
     "iopub.status.busy": "2023-05-25T12:24:46.862099Z",
     "iopub.status.idle": "2023-05-25T12:45:08.686566Z",
     "shell.execute_reply": "2023-05-25T12:45:08.685294Z"
    },
    "papermill": {
     "duration": 1221.844493,
     "end_time": "2023-05-25T12:45:08.689364",
     "exception": false,
     "start_time": "2023-05-25T12:24:46.844871",
     "status": "completed"
    },
    "tags": []
   },
   "outputs": [
    {
     "name": "stdout",
     "output_type": "stream",
     "text": [
      "sample data:  10000\n",
      "sample data:  20000\n",
      "sample data:  30000\n",
      "sample data:  40000\n",
      "sample data:  50000\n",
      "sample data:  60000\n",
      "sample data:  70000\n",
      "sample data:  80000\n",
      "sample data:  90000\n",
      "sample data:  100000\n",
      "sample data:  110000\n"
     ]
    }
   ],
   "source": [
    "for t in range(train_x_scaled.shape[0]):\n",
    "  if (t+1) % 10000 == 0:\n",
    "    print(\"sample data: \", t+1)\n",
    "  winner = winning_neuron(train_x_scaled, t, som, num_rows, num_cols)\n",
    "  map[winner[0]][winner[1]].append(label_data[t])"
   ]
  },
  {
   "cell_type": "code",
   "execution_count": 15,
   "id": "fcbeaf33",
   "metadata": {
    "execution": {
     "iopub.execute_input": "2023-05-25T12:45:08.724984Z",
     "iopub.status.busy": "2023-05-25T12:45:08.724141Z",
     "iopub.status.idle": "2023-05-25T12:45:08.750361Z",
     "shell.execute_reply": "2023-05-25T12:45:08.749077Z"
    },
    "papermill": {
     "duration": 0.046903,
     "end_time": "2023-05-25T12:45:08.753004",
     "exception": false,
     "start_time": "2023-05-25T12:45:08.706101",
     "status": "completed"
    },
    "tags": []
   },
   "outputs": [],
   "source": [
    "import statistics\n",
    "import matplotlib.colors as mcolors\n",
    "import matplotlib.cm as cm\n",
    "\n",
    "label_map = np.zeros(shape=(num_rows, num_cols),dtype=np.float32)\n",
    "\n",
    "for row in range(num_rows):\n",
    "  for col in range(num_cols):\n",
    "    label_list = map[row][col]\n",
    "    if len(label_list)==0:\n",
    "      label = 0 # Identified Classes Included\n",
    "    else:\n",
    "      label = label_list.count(1)/len(label_list)\n",
    "    label_map[row][col] = label"
   ]
  },
  {
   "cell_type": "code",
   "execution_count": 16,
   "id": "fc464c76",
   "metadata": {
    "execution": {
     "iopub.execute_input": "2023-05-25T12:45:08.787708Z",
     "iopub.status.busy": "2023-05-25T12:45:08.787289Z",
     "iopub.status.idle": "2023-05-25T12:45:09.158544Z",
     "shell.execute_reply": "2023-05-25T12:45:09.157293Z"
    },
    "papermill": {
     "duration": 0.391498,
     "end_time": "2023-05-25T12:45:09.160990",
     "exception": false,
     "start_time": "2023-05-25T12:45:08.769492",
     "status": "completed"
    },
    "tags": []
   },
   "outputs": [
    {
     "data": {
      "image/png": "[encoded data removed]",
      "text/plain": [
       "<Figure size 640x480 with 2 Axes>"
      ]
     },
     "metadata": {},
     "output_type": "display_data"
    }
   ],
   "source": [
    "title = ('Class-wise cluster' )\n",
    "\n",
    "from PIL import Image\n",
    "import requests\n",
    "from io import BytesIO\n",
    "\n",
    "def truncate_colormap(cmap, minval=0.0, maxval=1.0, n=100):\n",
    "    new_cmap = colors.LinearSegmentedColormap.from_list(\n",
    "        'trunc({n},{a:.2f},{b:.2f})'.format(n=cmap.name, a=minval, b=maxval),\n",
    "        cmap(np.linspace(minval, maxval, n)))\n",
    "    return new_cmap\n",
    "\n",
    "cmap = truncate_colormap(plt.get_cmap('jet'), 0.45, 1.0)\n",
    "\n",
    "plt.title(title)\n",
    "\n",
    "plt.imshow(label_map, cmap=cmap)\n",
    "\n",
    "clb=plt.colorbar()\n",
    "clb.ax.tick_params(labelsize=8) \n",
    "clb.set_label('(1 : Fraud) (0 : Not fraud / Unidentified Class)',loc='bottom', rotation=0)\n",
    "\n",
    "plt.show()"
   ]
  },
  {
   "cell_type": "markdown",
   "id": "8c2c75a3",
   "metadata": {
    "papermill": {
     "duration": 0.016765,
     "end_time": "2023-05-25T12:45:09.195036",
     "exception": false,
     "start_time": "2023-05-25T12:45:09.178271",
     "status": "completed"
    },
    "tags": []
   },
   "source": [
    "# Approach 2: Unsupervised Clustering. \n",
    "\n",
    " Clusters are already formed in the self organizing map. However, we can ignore train_y, and consider the scenario where we don't have access to data labels (no information of whether a given transaction is fraud/not-fraud).\n",
    "\n",
    " The Self Organizing Map is an unsupervised clustering technique. Interneuron distance of every neuron to neighbouring neurons may be computed to search for members of a cluster that show the most abnormal behavior / difference in weights. Any data instance (transaction) assigned to a neuron/BMU with the highest interneuron distance may be considered to be fraudulent."
   ]
  },
  {
   "cell_type": "code",
   "execution_count": 17,
   "id": "6d6c319f",
   "metadata": {
    "execution": {
     "iopub.execute_input": "2023-05-25T12:45:09.232587Z",
     "iopub.status.busy": "2023-05-25T12:45:09.232171Z",
     "iopub.status.idle": "2023-05-25T12:45:09.244629Z",
     "shell.execute_reply": "2023-05-25T12:45:09.243512Z"
    },
    "papermill": {
     "duration": 0.0336,
     "end_time": "2023-05-25T12:45:09.246919",
     "exception": false,
     "start_time": "2023-05-25T12:45:09.213319",
     "status": "completed"
    },
    "tags": []
   },
   "outputs": [],
   "source": [
    "def fast_norm(x):\n",
    "    \"\"\"Returns norm-2 of a 1-D numpy array.\n",
    "    \"\"\"\n",
    "    return math.sqrt(np.dot(x, x.T))\n",
    "\n",
    "def distance_map(map):\n",
    "        \"\"\"Returns the distance map of the weights.\n",
    "        Each cell is the normalised sum of\n",
    "        the distances between a neuron and its neighbours. Note that this\n",
    "        method uses the euclidean distance. *Partly copied from JustGlowing/Minisom Github project* \"\"\"\n",
    "        \n",
    "        ii = [[0, -1, -1, -1, 0, 1, 1, 1]]*2\n",
    "        jj = [[-1, -1, 0, 1, 1, 1, 0, -1]]*2\n",
    "        \n",
    "        um = np.nan * np.zeros((som.shape[0],\n",
    "                          som.shape[1],\n",
    "                          8)) \n",
    "        \n",
    "        for x in range(som.shape[0]):\n",
    "            for y in range(som.shape[1]):\n",
    "                neuron2 = som[x, y]\n",
    "                e = y % 2 == 0   # only used on hexagonal topology\n",
    "                for k, (i, j) in enumerate(zip(ii[e], jj[e])):\n",
    "                    if (x+i >= 0 and x+i < som.shape[0] and\n",
    "                            y+j >= 0 and y+j < som.shape[1]):\n",
    "                        neuron1 = som[x+i, y+j]\n",
    "                        um[x, y, k] = fast_norm(neuron2-neuron1)\n",
    "                        \n",
    "        um = np.nansum(um, axis=2)\n",
    "        \n",
    "        return um/um.max()"
   ]
  },
  {
   "cell_type": "code",
   "execution_count": 18,
   "id": "74e64ef6",
   "metadata": {
    "execution": {
     "iopub.execute_input": "2023-05-25T12:45:09.283027Z",
     "iopub.status.busy": "2023-05-25T12:45:09.282649Z",
     "iopub.status.idle": "2023-05-25T12:45:09.661782Z",
     "shell.execute_reply": "2023-05-25T12:45:09.660664Z"
    },
    "papermill": {
     "duration": 0.400247,
     "end_time": "2023-05-25T12:45:09.664332",
     "exception": false,
     "start_time": "2023-05-25T12:45:09.264085",
     "status": "completed"
    },
    "tags": []
   },
   "outputs": [
    {
     "data": {
      "image/png": "[encoded data removed]",
      "text/plain": [
       "<Figure size 640x480 with 2 Axes>"
      ]
     },
     "metadata": {},
     "output_type": "display_data"
    }
   ],
   "source": [
    "title = ('Inter-Neuron Distance (IND) Map' )\n",
    "\n",
    "dist_map = distance_map(som)\n",
    "plt.title(title)\n",
    "\n",
    "cmap = cm.get_cmap('Greys_r')\n",
    "\n",
    "plt.imshow(dist_map, cmap=cmap)\n",
    "\n",
    "clb=plt.colorbar()\n",
    "clb.ax.tick_params(labelsize=8) \n",
    "clb.set_label('(1 : Greater IND) (0 : Lesser IND)', rotation=0, loc = 'bottom')\n",
    "\n",
    "plt.show()"
   ]
  },
  {
   "cell_type": "markdown",
   "id": "097b85ba",
   "metadata": {
    "papermill": {
     "duration": 0.017199,
     "end_time": "2023-05-25T12:45:09.699090",
     "exception": false,
     "start_time": "2023-05-25T12:45:09.681891",
     "status": "completed"
    },
    "tags": []
   },
   "source": [
    "## Testing both approaches"
   ]
  },
  {
   "cell_type": "markdown",
   "id": "bb00ced3",
   "metadata": {
    "papermill": {
     "duration": 0.017141,
     "end_time": "2023-05-25T12:45:09.733763",
     "exception": false,
     "start_time": "2023-05-25T12:45:09.716622",
     "status": "completed"
    },
    "tags": []
   },
   "source": [
    "### Approach 1:"
   ]
  },
  {
   "cell_type": "markdown",
   "id": "4b0f7057",
   "metadata": {
    "papermill": {
     "duration": 0.017059,
     "end_time": "2023-05-25T12:45:09.768271",
     "exception": false,
     "start_time": "2023-05-25T12:45:09.751212",
     "status": "completed"
    },
    "tags": []
   },
   "source": [
    "#### Every neuron has been assigned mean class value of range 0-1. Threshold for fraudulent will be considered > 0.75"
   ]
  },
  {
   "cell_type": "code",
   "execution_count": 19,
   "id": "2a138fe2",
   "metadata": {
    "execution": {
     "iopub.execute_input": "2023-05-25T12:45:09.805911Z",
     "iopub.status.busy": "2023-05-25T12:45:09.804671Z",
     "iopub.status.idle": "2023-05-25T12:53:11.149823Z",
     "shell.execute_reply": "2023-05-25T12:53:11.148564Z"
    },
    "papermill": {
     "duration": 481.367081,
     "end_time": "2023-05-25T12:53:11.152908",
     "exception": false,
     "start_time": "2023-05-25T12:45:09.785827",
     "status": "completed"
    },
    "tags": []
   },
   "outputs": [],
   "source": [
    "true_labels = val_y\n",
    "predicted_labels = []\n",
    "\n",
    "for i, k in enumerate(val_x_scaled):\n",
    "    winner = winning_neuron(val_x_scaled, i, som, 16, 16)\n",
    "    winner_class = label_map[winner[0]][winner[1]]\n",
    "    predicted_labels.append(1 if winner_class > 0.5 else 0)"
   ]
  },
  {
   "cell_type": "code",
   "execution_count": 20,
   "id": "a3a917e1",
   "metadata": {
    "execution": {
     "iopub.execute_input": "2023-05-25T12:53:11.191549Z",
     "iopub.status.busy": "2023-05-25T12:53:11.190327Z",
     "iopub.status.idle": "2023-05-25T12:53:11.643468Z",
     "shell.execute_reply": "2023-05-25T12:53:11.642393Z"
    },
    "papermill": {
     "duration": 0.474875,
     "end_time": "2023-05-25T12:53:11.646136",
     "exception": false,
     "start_time": "2023-05-25T12:53:11.171261",
     "status": "completed"
    },
    "tags": []
   },
   "outputs": [
    {
     "data": {
      "image/png": "[encoded data removed]",
      "text/plain": [
       "<Figure size 750x750 with 1 Axes>"
      ]
     },
     "metadata": {},
     "output_type": "display_data"
    }
   ],
   "source": [
    "from sklearn.metrics import confusion_matrix\n",
    "\n",
    "conf_matrix = confusion_matrix(y_true=true_labels, y_pred=predicted_labels)\n",
    "\n",
    "fig, ax = plt.subplots(figsize=(7.5, 7.5))\n",
    "ax.matshow(conf_matrix, cmap=cm.Blues, alpha=0.3)\n",
    "\n",
    "for i in range(conf_matrix.shape[0]):\n",
    "    for j in range(conf_matrix.shape[1]):\n",
    "        ax.text(x=j, y=i,s=conf_matrix[i, j], va='center', ha='center', size='xx-large')\n",
    " \n",
    "plt.xlabel('Predictions', fontsize=18)\n",
    "plt.ylabel('Actuals', fontsize=18)\n",
    "plt.title('Confusion Matrix', fontsize=18)\n",
    "\n",
    "plt.show()"
   ]
  },
  {
   "cell_type": "code",
   "execution_count": 21,
   "id": "b11731f8",
   "metadata": {
    "execution": {
     "iopub.execute_input": "2023-05-25T12:53:11.685000Z",
     "iopub.status.busy": "2023-05-25T12:53:11.684561Z",
     "iopub.status.idle": "2023-05-25T12:53:11.747586Z",
     "shell.execute_reply": "2023-05-25T12:53:11.746281Z"
    },
    "papermill": {
     "duration": 0.08583,
     "end_time": "2023-05-25T12:53:11.750159",
     "exception": false,
     "start_time": "2023-05-25T12:53:11.664329",
     "status": "completed"
    },
    "tags": []
   },
   "outputs": [
    {
     "name": "stdout",
     "output_type": "stream",
     "text": [
      "Accuracy Score: 96.0%\n"
     ]
    }
   ],
   "source": [
    "from sklearn.metrics import accuracy_score\n",
    "\n",
    "print(f'Accuracy Score: {round(accuracy_score(y_true=true_labels, y_pred=predicted_labels),2)*100}%')"
   ]
  },
  {
   "cell_type": "markdown",
   "id": "4df51491",
   "metadata": {
    "papermill": {
     "duration": 0.017968,
     "end_time": "2023-05-25T12:53:11.786377",
     "exception": false,
     "start_time": "2023-05-25T12:53:11.768409",
     "status": "completed"
    },
    "tags": []
   },
   "source": [
    "### Approach 2:"
   ]
  },
  {
   "cell_type": "markdown",
   "id": "0870b332",
   "metadata": {
    "papermill": {
     "duration": 0.018405,
     "end_time": "2023-05-25T12:53:11.823256",
     "exception": false,
     "start_time": "2023-05-25T12:53:11.804851",
     "status": "completed"
    },
    "tags": []
   },
   "source": [
    "#### Every unit has been assigned normalized IND of range 0-1. Threshold for fraudulent will be considered > 0.75"
   ]
  },
  {
   "cell_type": "code",
   "execution_count": 22,
   "id": "54be8a83",
   "metadata": {
    "execution": {
     "iopub.execute_input": "2023-05-25T12:53:11.861515Z",
     "iopub.status.busy": "2023-05-25T12:53:11.861063Z",
     "iopub.status.idle": "2023-05-25T13:01:12.780654Z",
     "shell.execute_reply": "2023-05-25T13:01:12.779443Z"
    },
    "papermill": {
     "duration": 480.942221,
     "end_time": "2023-05-25T13:01:12.783732",
     "exception": false,
     "start_time": "2023-05-25T12:53:11.841511",
     "status": "completed"
    },
    "tags": []
   },
   "outputs": [],
   "source": [
    "true_labels = val_y\n",
    "predicted_labels = []\n",
    "\n",
    "for i, k in enumerate(val_x_scaled):\n",
    "    winner = winning_neuron(val_x_scaled, i, som, 16, 16)\n",
    "    winner_class = dist_map[winner[0]][winner[1]]\n",
    "    predicted_labels.append(1 if winner_class > 0.65 else 0)"
   ]
  },
  {
   "cell_type": "code",
   "execution_count": 23,
   "id": "944dfc1b",
   "metadata": {
    "execution": {
     "iopub.execute_input": "2023-05-25T13:01:12.822288Z",
     "iopub.status.busy": "2023-05-25T13:01:12.821890Z",
     "iopub.status.idle": "2023-05-25T13:01:13.252275Z",
     "shell.execute_reply": "2023-05-25T13:01:13.251058Z"
    },
    "papermill": {
     "duration": 0.452528,
     "end_time": "2023-05-25T13:01:13.254883",
     "exception": false,
     "start_time": "2023-05-25T13:01:12.802355",
     "status": "completed"
    },
    "tags": []
   },
   "outputs": [
    {
     "data": {
      "image/png": "[encoded data removed]",
      "text/plain": [
       "<Figure size 750x750 with 1 Axes>"
      ]
     },
     "metadata": {},
     "output_type": "display_data"
    }
   ],
   "source": [
    "from sklearn.metrics import confusion_matrix\n",
    "\n",
    "conf_matrix = confusion_matrix(y_true=true_labels, y_pred=predicted_labels)\n",
    "\n",
    "fig, ax = plt.subplots(figsize=(7.5, 7.5))\n",
    "ax.matshow(conf_matrix, cmap=cm.Blues, alpha=0.3)\n",
    "\n",
    "for i in range(conf_matrix.shape[0]):\n",
    "    for j in range(conf_matrix.shape[1]):\n",
    "        ax.text(x=j, y=i,s=conf_matrix[i, j], va='center', ha='center', size='xx-large')\n",
    " \n",
    "plt.xlabel('Predictions', fontsize=18)\n",
    "plt.ylabel('Actuals', fontsize=18)\n",
    "plt.title('Confusion Matrix', fontsize=18)\n",
    "\n",
    "plt.show()"
   ]
  },
  {
   "cell_type": "code",
   "execution_count": 24,
   "id": "6fa51adf",
   "metadata": {
    "execution": {
     "iopub.execute_input": "2023-05-25T13:01:13.294839Z",
     "iopub.status.busy": "2023-05-25T13:01:13.294405Z",
     "iopub.status.idle": "2023-05-25T13:01:13.358349Z",
     "shell.execute_reply": "2023-05-25T13:01:13.357074Z"
    },
    "papermill": {
     "duration": 0.087158,
     "end_time": "2023-05-25T13:01:13.361322",
     "exception": false,
     "start_time": "2023-05-25T13:01:13.274164",
     "status": "completed"
    },
    "tags": []
   },
   "outputs": [
    {
     "name": "stdout",
     "output_type": "stream",
     "text": [
      "Accuracy Score: 86.0%\n"
     ]
    }
   ],
   "source": [
    "from sklearn.metrics import accuracy_score\n",
    "\n",
    "print(f'Accuracy Score: {round(accuracy_score(y_true=true_labels, y_pred=predicted_labels),2)*100}%')"
   ]
  }
 ],
 "metadata": {
  "kernelspec": {
   "display_name": "Python 3 (ipykernel)",
   "language": "python",
   "name": "python3"
  },
  "language_info": {
   "codemirror_mode": {
    "name": "ipython",
    "version": 3
   },
   "file_extension": ".py",
   "mimetype": "text/x-python",
   "name": "python",
   "nbconvert_exporter": "python",
   "pygments_lexer": "ipython3",
   "version": "3.10.9"
  },
  "papermill": {
   "default_parameters": {},
   "duration": 8460.961354,
   "end_time": "2023-05-25T13:01:14.826897",
   "environment_variables": {},
   "exception": null,
   "input_path": "__notebook__.ipynb",
   "output_path": "__notebook__.ipynb",
   "parameters": {},
   "start_time": "2023-05-25T10:40:13.865543",
   "version": "2.4.0"
  }
 },
 "nbformat": 4,
 "nbformat_minor": 5
}
